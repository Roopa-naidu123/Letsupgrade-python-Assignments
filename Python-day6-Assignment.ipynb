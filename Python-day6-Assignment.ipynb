{
 "cells": [
  {
   "cell_type": "raw",
   "metadata": {},
   "source": []
  },
  {
   "cell_type": "code",
   "execution_count": 1,
   "metadata": {},
   "outputs": [],
   "source": [
    "#Create a class bank account with two attributes and two methods"
   ]
  },
  {
   "cell_type": "code",
   "execution_count": 2,
   "metadata": {},
   "outputs": [],
   "source": [
    "class BankAccount:\n",
    "    def __init__(self):\n",
    "        #self.ownerName = ownerName\n",
    "        self.balance = 0\n",
    "    def deposit(self):\n",
    "        amount = float(input(\"Enter amount to be deposited: \"))\n",
    "        self.balance += amount\n",
    "        print(\"\\n Amount Deposited:\", amount)\n",
    "    def withdraw(self):\n",
    "        amount = float(input(\"Enter amount to be withdraw: \"))\n",
    "        if self.balance >= amount:\n",
    "            self.balance -= amount\n",
    "            print(\"\\n Amount withdrew:\", amount)\n",
    "        else:\n",
    "            print(\"\\n Insufficient balance  \")\n",
    "    def display(self):\n",
    "        print(\"\\n Net Available Balance= \", self.balance)"
   ]
  },
  {
   "cell_type": "code",
   "execution_count": 3,
   "metadata": {},
   "outputs": [
    {
     "name": "stdout",
     "output_type": "stream",
     "text": [
      "Enter amount to be deposited: 5000\n",
      "\n",
      " Amount Deposited: 5000.0\n",
      "Enter amount to be withdraw: 6000\n",
      "\n",
      " Insufficient balance  \n"
     ]
    }
   ],
   "source": [
    "s = BankAccount()\n",
    "s.deposit()\n",
    "s.withdraw()"
   ]
  },
  {
   "cell_type": "code",
   "execution_count": 4,
   "metadata": {},
   "outputs": [
    {
     "name": "stdout",
     "output_type": "stream",
     "text": [
      "Enter the radius of cone 5\n",
      "Enter the height of cone 5\n",
      "Enter the slat height of cone 5\n",
      "Volume of cone :  130.89969389957471\n",
      "surface area of cone : 157.07963267948966\n"
     ]
    }
   ],
   "source": [
    "import math\n",
    "pi = math.pi\n",
    "\n",
    "def volume(r,h):\n",
    "    return (1 / 3) * pi * r * r * h\n",
    "\n",
    "def surfacearea(r,s):\n",
    "    return pi * r * s + pi * r * r\n",
    "\n",
    "radius = float(input(\"Enter the radius of cone \"))\n",
    "height = float(input(\"Enter the height of cone \"))\n",
    "slat = float(input(\"Enter the slat height of cone \"))\n",
    "print( \"Volume of cone : \", volume(radius, height))\n",
    "print( \"surface area of cone :\", surfacearea(radius, slat))"
   ]
  },
  {
   "cell_type": "code",
   "execution_count": null,
   "metadata": {},
   "outputs": [],
   "source": []
  }
 ],
 "metadata": {
  "kernelspec": {
   "display_name": "Python 3",
   "language": "python",
   "name": "python3"
  },
  "language_info": {
   "codemirror_mode": {
    "name": "ipython",
    "version": 3
   },
   "file_extension": ".py",
   "mimetype": "text/x-python",
   "name": "python",
   "nbconvert_exporter": "python",
   "pygments_lexer": "ipython3",
   "version": "3.8.3"
  }
 },
 "nbformat": 4,
 "nbformat_minor": 4
}
