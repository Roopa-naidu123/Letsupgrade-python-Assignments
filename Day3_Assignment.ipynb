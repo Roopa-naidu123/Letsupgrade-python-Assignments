{
 "cells": [
  {
   "cell_type": "code",
   "execution_count": 1,
   "metadata": {},
   "outputs": [],
   "source": [
    "#Day3-assignment1:program to chcek the altitude of planeSETS\n",
    "def altitude():\n",
    "        alt = int(input( \" enter the altitude \" ))\n",
    "        if 1000 <= alt <= 1000 :\n",
    "            print(\"safe to land\")\n",
    "        elif 1000 < alt < 5000 :\n",
    "            print(\"Bring down the speed to 1000\")\n",
    "        else :\n",
    "            print(\"turn around\")"
   ]
  },
  {
   "cell_type": "code",
   "execution_count": 4,
   "metadata": {},
   "outputs": [
    {
     "name": "stdout",
     "output_type": "stream",
     "text": [
      " enter the altitude 6500\n",
      "turn around\n"
     ]
    }
   ],
   "source": [
    "altitude()\n",
    "\n"
   ]
  },
  {
   "cell_type": "code",
   "execution_count": 2,
   "metadata": {},
   "outputs": [
    {
     "name": "stdout",
     "output_type": "stream",
     "text": [
      "2 3 5 7 11 13 17 19 23 29 31 37 41 43 47 53 59 61 67 71 73 79 83 89 97 101 103 107 109 113 127 131 137 139 149 151 157 163 167 173 179 181 191 193 197 199 "
     ]
    }
   ],
   "source": [
    "#Day3-assignment2 : program to print the primenumbers from 1-200 using FOR loop and Range()\n",
    "\n",
    "for i in range(1, 200):# read the numbers from1 to 200\n",
    "    count = 0\n",
    "    for j in range(2,(i//2+1)):\n",
    "        if(i%j == 0):\n",
    "            count += 1\n",
    "            break\n",
    "    if(count ==0 and i != 1):\n",
    "        print(\"%d\"%i,end=' ')"
   ]
  },
  {
   "cell_type": "code",
   "execution_count": null,
   "metadata": {},
   "outputs": [],
   "source": []
  }
 ],
 "metadata": {
  "kernelspec": {
   "display_name": "Python 3",
   "language": "python",
   "name": "python3"
  },
  "language_info": {
   "codemirror_mode": {
    "name": "ipython",
    "version": 3
   },
   "file_extension": ".py",
   "mimetype": "text/x-python",
   "name": "python",
   "nbconvert_exporter": "python",
   "pygments_lexer": "ipython3",
   "version": "3.7.4"
  }
 },
 "nbformat": 4,
 "nbformat_minor": 2
}
